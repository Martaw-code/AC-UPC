{
 "cells": [
  {
   "cell_type": "code",
   "execution_count": 5,
   "metadata": {},
   "outputs": [],
   "source": [
    "#SHL\n",
    "\n",
    "def shl(dest,count):\n",
    "    return hex(dest << count)"
   ]
  },
  {
   "cell_type": "code",
   "execution_count": 4,
   "metadata": {},
   "outputs": [],
   "source": [
    "#SHA lògic\n",
    "\n",
    "def sha(dest, count):\n",
    "    return hex(dest >> count)"
   ]
  },
  {
   "cell_type": "code",
   "execution_count": 6,
   "metadata": {},
   "outputs": [
    {
     "name": "stdout",
     "output_type": "stream",
     "text": [
      "Resultat:  000b1010\n"
     ]
    }
   ],
   "source": [
    "#SHA aritmètic\n",
    "\n",
    "inputLogic  = \"0A\"\n",
    "scale = 16\n",
    "resultat = bin(int(inputLogic,scale)).zfill(8)\n",
    "print(\"Resultat: \", str(resultat))"
   ]
  }
 ],
 "metadata": {
  "kernelspec": {
   "display_name": "Python 3",
   "language": "python",
   "name": "python3"
  },
  "language_info": {
   "codemirror_mode": {
    "name": "ipython",
    "version": 3
   },
   "file_extension": ".py",
   "mimetype": "text/x-python",
   "name": "python",
   "nbconvert_exporter": "python",
   "pygments_lexer": "ipython3",
   "version": "3.9.2"
  }
 },
 "nbformat": 4,
 "nbformat_minor": 4
}
